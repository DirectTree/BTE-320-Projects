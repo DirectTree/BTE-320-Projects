{
  "nbformat": 4,
  "nbformat_minor": 0,
  "metadata": {
    "colab": {
      "provenance": []
    },
    "kernelspec": {
      "name": "python3",
      "display_name": "Python 3"
    },
    "language_info": {
      "name": "python"
    }
  },
  "cells": [
    {
      "cell_type": "code",
      "execution_count": null,
      "metadata": {
        "id": "TWWeOp5XDK81"
      },
      "outputs": [],
      "source": [
        "import random\n",
        "user_input2 = input(\"Play a game y/n: \")\n",
        "while user_input2 == \"y\":\n",
        "  user_input = (input('Enter rock, paper or scissors: '))\n",
        "  pc_choice = random.choice(list_strings)\n",
        "  list_strings = ['rock', 'paper' , 'scissors']\n",
        "  print ('You chose: ', user_input)\n",
        "  print ('Computer chose: ', pc_choice)\n",
        "\n",
        "  if( user_input == pc_choice ):\n",
        "    print ('It was a draw')\n",
        "  elif(user_input == 'scissors' and pc_choice != 'rock') or (user_input == 'rock' and pc_choice != 'paper') or (user_input == 'paper' and pc_choice != 'scissors'):\n",
        "    print('You won')\n",
        "  elif(user_input != 'list_strings'):\n",
        "    print(\" Please Enter an appropriate choice\")\n",
        "  else:\n",
        "    print('You Lost')\n",
        "  user_input2 = input(\"Play a game y/n: \")\n",
        "\n"
      ]
    }
  ]
}