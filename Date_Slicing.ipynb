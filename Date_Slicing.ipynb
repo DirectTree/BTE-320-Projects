{
  "nbformat": 4,
  "nbformat_minor": 0,
  "metadata": {
    "colab": {
      "provenance": [],
      "authorship_tag": "ABX9TyNTNi7WHrNG0xzxGHvj0ewd",
      "include_colab_link": true
    },
    "kernelspec": {
      "name": "python3",
      "display_name": "Python 3"
    },
    "language_info": {
      "name": "python"
    }
  },
  "cells": [
    {
      "cell_type": "markdown",
      "metadata": {
        "id": "view-in-github",
        "colab_type": "text"
      },
      "source": [
        "<a href=\"https://colab.research.google.com/github/DirectTree/BTE-320-Projects/blob/main/Date_Slicing.ipynb\" target=\"_parent\"><img src=\"https://colab.research.google.com/assets/colab-badge.svg\" alt=\"Open In Colab\"/></a>"
      ]
    },
    {
      "cell_type": "code",
      "execution_count": null,
      "metadata": {
        "id": "JZMJU5dAHyTP"
      },
      "outputs": [],
      "source": [
        "#02/20/2024 Slicing in Class Lab\n",
        "user_Input = input(\"Enter today's Date in the format mm/dd/yyyy: \")\n",
        "month = user_Input[0:2]\n",
        "day = user_Input[3:5]\n",
        "year = user_Input[6:10]\n",
        "print('month: ', month)\n",
        "print('day: ', day)\n",
        "print('year: ', year)\n"
      ]
    }
  ]
}