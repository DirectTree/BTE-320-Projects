{
  "nbformat": 4,
  "nbformat_minor": 0,
  "metadata": {
    "colab": {
      "provenance": [],
      "authorship_tag": "ABX9TyN5rO9yuQXQDU1u5hRqy9uB",
      "include_colab_link": true
    },
    "kernelspec": {
      "name": "python3",
      "display_name": "Python 3"
    },
    "language_info": {
      "name": "python"
    }
  },
  "cells": [
    {
      "cell_type": "markdown",
      "metadata": {
        "id": "view-in-github",
        "colab_type": "text"
      },
      "source": [
        "<a href=\"https://colab.research.google.com/github/DirectTree/BTE-320-Projects/blob/main/Exception_Error_04_11_2024.ipynb\" target=\"_parent\"><img src=\"https://colab.research.google.com/assets/colab-badge.svg\" alt=\"Open In Colab\"/></a>"
      ]
    },
    {
      "cell_type": "code",
      "execution_count": null,
      "metadata": {
        "colab": {
          "base_uri": "https://localhost:8080/"
        },
        "id": "p48-vDLDRqMI",
        "outputId": "b8a84a1c-224b-4414-a38a-391937845c8e"
      },
      "outputs": [
        {
          "output_type": "stream",
          "name": "stdout",
          "text": [
            "Enter the numerator: 2.5\n",
            "Enter the denominator: 0\n",
            "Division by zero is not allowed!\n",
            "Program Ends\n"
          ]
        }
      ],
      "source": [
        "try:\n",
        "  a = float(input('Enter the numerator: '))\n",
        "  b = float(input('Enter the denominator: '))\n",
        "  print(a/b)\n",
        "except ZeroDivisionError:\n",
        "  print('Division by zero is not allowed!')\n",
        "except ValueError:\n",
        "  print('Invalid Input')\n",
        "except:\n",
        "  print('Unknown Error...')\n",
        "else:\n",
        "  print('Divison succesful')\n",
        "finally:\n",
        "  print('This will always be displayed')\n",
        "print('Program Ends')                                                                            #Else creates a block when except is not used i.e. no errors interpretor jumps to else clause\n"
      ]
    }
  ]
}