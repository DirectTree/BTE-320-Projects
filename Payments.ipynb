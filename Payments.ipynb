{
  "nbformat": 4,
  "nbformat_minor": 0,
  "metadata": {
    "colab": {
      "provenance": [],
      "authorship_tag": "ABX9TyOVTDDFByxs8dMD9ZxPyynd",
      "include_colab_link": true
    },
    "kernelspec": {
      "name": "python3",
      "display_name": "Python 3"
    },
    "language_info": {
      "name": "python"
    }
  },
  "cells": [
    {
      "cell_type": "markdown",
      "metadata": {
        "id": "view-in-github",
        "colab_type": "text"
      },
      "source": [
        "<a href=\"https://colab.research.google.com/github/DirectTree/BTE-320-Projects/blob/main/Payments.ipynb\" target=\"_parent\"><img src=\"https://colab.research.google.com/assets/colab-badge.svg\" alt=\"Open In Colab\"/></a>"
      ]
    },
    {
      "cell_type": "code",
      "execution_count": null,
      "metadata": {
        "id": "S47QgW2lILN9"
      },
      "outputs": [],
      "source": [
        "#Payments\n",
        "down = 100000\n",
        "deposit = 10000\n",
        "amount = deposit\n",
        "months = 0\n",
        "while deposit<down:\n",
        "  deposit=deposit+amount\n",
        "  months += 1\n",
        "  print('It will take {} months'.format(months))"
      ]
    }
  ]
}