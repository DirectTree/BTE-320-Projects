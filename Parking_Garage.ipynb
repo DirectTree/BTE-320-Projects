{
  "nbformat": 4,
  "nbformat_minor": 0,
  "metadata": {
    "colab": {
      "provenance": [],
      "authorship_tag": "ABX9TyOdMdJFjRXQhMx9cjQN+AK4",
      "include_colab_link": true
    },
    "kernelspec": {
      "name": "python3",
      "display_name": "Python 3"
    },
    "language_info": {
      "name": "python"
    }
  },
  "cells": [
    {
      "cell_type": "markdown",
      "metadata": {
        "id": "view-in-github",
        "colab_type": "text"
      },
      "source": [
        "<a href=\"https://colab.research.google.com/github/DirectTree/BTE-320-Projects/blob/main/Parking_Garage.ipynb\" target=\"_parent\"><img src=\"https://colab.research.google.com/assets/colab-badge.svg\" alt=\"Open In Colab\"/></a>"
      ]
    },
    {
      "cell_type": "code",
      "execution_count": 3,
      "metadata": {
        "colab": {
          "base_uri": "https://localhost:8080/"
        },
        "id": "VWkMJdJufUqC",
        "outputId": "2ffce763-5198-4e89-c596-ecd2cc9dbb65"
      },
      "outputs": [
        {
          "output_type": "stream",
          "name": "stdout",
          "text": [
            "Hours Parked 1 - $ 10\n",
            "Hours Parked 2 - $ 10\n",
            "Hours Parked 3 - $ 12.5\n",
            "Hours Parked 4 - $ 15.0\n",
            "Hours Parked 5 - $ 17.5\n",
            "Hours Parked 6 - $ 20\n",
            "Hours Parked 7 - $ 20\n",
            "Hours Parked 8 - $ 20\n"
          ]
        }
      ],
      "source": [
        "for hour in range (1, 9):\n",
        "  price = (hour*2.5)+5\n",
        "  if price <= 10:\n",
        "    price = 10\n",
        "  if price >= 20:\n",
        "    price = 20\n",
        "  print ('Hours Parked', hour, '- $', price)"
      ]
    }
  ]
}